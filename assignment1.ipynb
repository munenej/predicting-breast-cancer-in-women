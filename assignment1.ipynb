{
 "cells": [
  {
   "cell_type": "markdown",
   "id": "c7233e1d-7f21-4440-86ae-77eb1b72037f",
   "metadata": {},
   "source": [
    "**1. Import NumPy Library as np**"
   ]
  },
  {
   "cell_type": "code",
   "execution_count": 1,
   "id": "3acf6c0b-ce61-4b59-899e-ea80217f0d83",
   "metadata": {},
   "outputs": [],
   "source": [
    "import numpy as np"
   ]
  },
  {
   "cell_type": "markdown",
   "id": "deca160b-c97a-4616-8629-f6c9c0ff4244",
   "metadata": {},
   "source": [
    "**2. Create an array of integers starting from 15 to 40 and store it in a variable called array1**"
   ]
  },
  {
   "cell_type": "code",
   "execution_count": 2,
   "id": "34f37461-9d4c-4be1-b4c1-849ba6e3cdba",
   "metadata": {},
   "outputs": [
    {
     "data": {
      "text/plain": [
       "array([15, 16, 17, 18, 19, 20, 21, 22, 23, 24, 25, 26, 27, 28, 29, 30, 31,\n",
       "       32, 33, 34, 35, 36, 37, 38, 39, 40])"
      ]
     },
     "execution_count": 2,
     "metadata": {},
     "output_type": "execute_result"
    }
   ],
   "source": [
    "array1 = np.arange(15,41)\n",
    "array1"
   ]
  },
  {
   "cell_type": "markdown",
   "id": "a2232b3a-0b19-4726-a139-f2b318acb2dd",
   "metadata": {},
   "source": [
    "**2.1. Create a second array of integers starting from 10 until 25 and store it in a variable called array2**"
   ]
  },
  {
   "cell_type": "code",
   "execution_count": 3,
   "id": "85d4dfd3-d499-4db1-a6b8-2d2334c19710",
   "metadata": {},
   "outputs": [
    {
     "data": {
      "text/plain": [
       "array([10, 11, 12, 13, 14, 15, 16, 17, 18, 19, 20, 21, 22, 23, 24, 25])"
      ]
     },
     "execution_count": 3,
     "metadata": {},
     "output_type": "execute_result"
    }
   ],
   "source": [
    "array2 = np.arange(10,26)\n",
    "array2"
   ]
  },
  {
   "cell_type": "markdown",
   "id": "cb9c44af-e03e-4da9-ac92-21ba9a81aebb",
   "metadata": {},
   "source": [
    "**2.2. What is the difference between the two arrays?**"
   ]
  },
  {
   "cell_type": "code",
   "execution_count": 4,
   "id": "b29790a5-d8c0-4cc0-86bb-a97ba3c339a8",
   "metadata": {},
   "outputs": [
    {
     "name": "stdout",
     "output_type": "stream",
     "text": [
      "[26 27 28 29 30 31 32 33 34 35 36 37 38 39 40]\n"
     ]
    }
   ],
   "source": [
    "print(np.setdiff1d(array1, array2))"
   ]
  },
  {
   "cell_type": "markdown",
   "id": "866f0a4e-cf06-4200-86e1-48186deca6a7",
   "metadata": {},
   "source": [
    "**3. Create an array of all even integers from 2 to 20 and name it even_array1**"
   ]
  },
  {
   "cell_type": "code",
   "execution_count": 5,
   "id": "1923de53-9ea4-4a74-bc1e-cb43741a2a5c",
   "metadata": {},
   "outputs": [
    {
     "data": {
      "text/plain": [
       "array([ 2,  4,  6,  8, 10, 12, 14, 16, 18, 20])"
      ]
     },
     "execution_count": 5,
     "metadata": {},
     "output_type": "execute_result"
    }
   ],
   "source": [
    "even_array1 = np.arange(2, 21, 2)\n",
    "even_array1"
   ]
  },
  {
   "cell_type": "markdown",
   "id": "13919afd-afc0-4e52-a1e1-1b05fc5a9e2e",
   "metadata": {},
   "source": [
    "**3.1. Create an array of all even integers from 34 to 42 and name it even_array2**"
   ]
  },
  {
   "cell_type": "code",
   "execution_count": 6,
   "id": "4ac44154-3ee9-462e-a9f3-6b9291361795",
   "metadata": {},
   "outputs": [
    {
     "data": {
      "text/plain": [
       "array([34, 36, 38, 40, 42])"
      ]
     },
     "execution_count": 6,
     "metadata": {},
     "output_type": "execute_result"
    }
   ],
   "source": [
    "even_array2 = np.arange(34, 43, 2)\n",
    "even_array2"
   ]
  },
  {
   "cell_type": "markdown",
   "id": "6fa07467-bf36-4be7-9002-7735c71c8f5d",
   "metadata": {},
   "source": [
    "**3.2. Create a matrix of the two arrays using the stack function**"
   ]
  },
  {
   "cell_type": "code",
   "execution_count": 7,
   "id": "0e0bde6b-1a0f-4b25-a46f-35621ca3aa85",
   "metadata": {},
   "outputs": [
    {
     "data": {
      "text/plain": [
       "array([[ 2,  4,  6,  8, 10],\n",
       "       [12, 14, 16, 18, 20],\n",
       "       [34, 36, 38, 40, 42]])"
      ]
     },
     "execution_count": 7,
     "metadata": {},
     "output_type": "execute_result"
    }
   ],
   "source": [
    "even_array1_1 = even_array1[0:5]\n",
    "even_array1_2 = even_array1[5:10]\n",
    "stack_array = np.stack((even_array1_1, even_array1_2, even_array2), axis=0)\n",
    "stack_array"
   ]
  },
  {
   "cell_type": "markdown",
   "id": "a86e545b-d2bd-42d8-9bf4-abff5fd2fe46",
   "metadata": {},
   "source": [
    "**4. Create a 6×6 matrix with values ranging from 0 to 36 and retrieve the intersection of the 3rd row and 2nd column**"
   ]
  },
  {
   "cell_type": "code",
   "execution_count": 8,
   "id": "24f0b2c5-4bbc-432d-adf2-77f2ede483dc",
   "metadata": {},
   "outputs": [
    {
     "data": {
      "text/plain": [
       "13"
      ]
     },
     "execution_count": 8,
     "metadata": {},
     "output_type": "execute_result"
    }
   ],
   "source": [
    "my_array = np.arange(36)\n",
    "my_array.resize(6,6)\n",
    "my_array[2,1]"
   ]
  },
  {
   "cell_type": "markdown",
   "id": "4763e372-dad3-440d-a63a-fd8233988d81",
   "metadata": {},
   "source": [
    "**4.1. Create a 5×2 matrix from a standard normal distribution generated with python.**"
   ]
  },
  {
   "cell_type": "code",
   "execution_count": 9,
   "id": "541164fb-4d1c-43b3-b3c8-76ff87762699",
   "metadata": {},
   "outputs": [
    {
     "data": {
      "text/plain": [
       "array([[0.69855818, 0.17885299],\n",
       "       [0.19833286, 0.18265138],\n",
       "       [0.49210876, 0.37568805],\n",
       "       [0.39160347, 0.70189349],\n",
       "       [0.90051794, 0.71823748]])"
      ]
     },
     "execution_count": 9,
     "metadata": {},
     "output_type": "execute_result"
    }
   ],
   "source": [
    "rand_array = np.random.rand(5,2)\n",
    "rand_array"
   ]
  },
  {
   "cell_type": "markdown",
   "id": "51e8aa66-6b2b-4f55-9364-6d21c2827204",
   "metadata": {},
   "source": [
    "**4.2. Retrieve the value intersecting the last row and the last column of your matrix**"
   ]
  },
  {
   "cell_type": "code",
   "execution_count": 10,
   "id": "e5a63b1b-b077-4c10-8e1b-0061d8e98b9d",
   "metadata": {},
   "outputs": [
    {
     "data": {
      "text/plain": [
       "0.7182374837636055"
      ]
     },
     "execution_count": 10,
     "metadata": {},
     "output_type": "execute_result"
    }
   ],
   "source": [
    "rand_array[-1,-1]"
   ]
  },
  {
   "cell_type": "markdown",
   "id": "097be3dc-1f51-4683-a07a-42003e1f5faf",
   "metadata": {},
   "source": [
    "**5. Using your matrix created at 4.1, calculate the following:**"
   ]
  },
  {
   "cell_type": "markdown",
   "id": "4d2c1039-b250-43f7-b32c-7e2084133107",
   "metadata": {},
   "source": [
    "**a. minimum of the matrix**"
   ]
  },
  {
   "cell_type": "code",
   "execution_count": 11,
   "id": "35210ea4-0674-40ff-8191-0dafb8909d85",
   "metadata": {},
   "outputs": [
    {
     "data": {
      "text/plain": [
       "0.17885298739408906"
      ]
     },
     "execution_count": 11,
     "metadata": {},
     "output_type": "execute_result"
    }
   ],
   "source": [
    "np.min(rand_array)"
   ]
  },
  {
   "cell_type": "markdown",
   "id": "2af40032-87f3-45f4-bf77-6cac09bb67b5",
   "metadata": {},
   "source": [
    "**b. maximum of the matrix**"
   ]
  },
  {
   "cell_type": "code",
   "execution_count": 12,
   "id": "1086d07c-7de8-472e-b202-486209d91ec6",
   "metadata": {},
   "outputs": [
    {
     "data": {
      "text/plain": [
       "0.9005179372922179"
      ]
     },
     "execution_count": 12,
     "metadata": {},
     "output_type": "execute_result"
    }
   ],
   "source": [
    "np.max(rand_array)"
   ]
  },
  {
   "cell_type": "markdown",
   "id": "60c2638b-2f7d-4fa7-96d2-e887f831b831",
   "metadata": {},
   "source": [
    "**c. standard deviation of the matrix**"
   ]
  },
  {
   "cell_type": "code",
   "execution_count": 13,
   "id": "71da2285-2451-46f6-8971-1a828fb1f56a",
   "metadata": {},
   "outputs": [
    {
     "data": {
      "text/plain": [
       "0.24652235083102159"
      ]
     },
     "execution_count": 13,
     "metadata": {},
     "output_type": "execute_result"
    }
   ],
   "source": [
    "np.std(rand_array)"
   ]
  },
  {
   "cell_type": "markdown",
   "id": "1120f15c-fd68-4951-bae6-487656b13aa2",
   "metadata": {},
   "source": [
    "**d. variance of the matrix**"
   ]
  },
  {
   "cell_type": "code",
   "execution_count": 14,
   "id": "319f3a2d-ecb7-48e2-adf4-d31b5ab44007",
   "metadata": {},
   "outputs": [
    {
     "data": {
      "text/plain": [
       "0.060773269459253286"
      ]
     },
     "execution_count": 14,
     "metadata": {},
     "output_type": "execute_result"
    }
   ],
   "source": [
    "np.var(rand_array)"
   ]
  },
  {
   "cell_type": "markdown",
   "id": "c4e891de-95ee-46c9-bf05-f182262b3daf",
   "metadata": {},
   "source": [
    "**e. mean of the matrix**"
   ]
  },
  {
   "cell_type": "code",
   "execution_count": 15,
   "id": "056fc22c-b930-46dc-a223-35a97e370938",
   "metadata": {},
   "outputs": [
    {
     "data": {
      "text/plain": [
       "0.48384445956409794"
      ]
     },
     "execution_count": 15,
     "metadata": {},
     "output_type": "execute_result"
    }
   ],
   "source": [
    "np.mean(rand_array)"
   ]
  },
  {
   "cell_type": "code",
   "execution_count": null,
   "id": "01fec7e3-21bd-4d50-9847-b298c7c96e10",
   "metadata": {},
   "outputs": [],
   "source": []
  }
 ],
 "metadata": {
  "kernelspec": {
   "display_name": "Python 3 (ipykernel)",
   "language": "python",
   "name": "python3"
  },
  "language_info": {
   "codemirror_mode": {
    "name": "ipython",
    "version": 3
   },
   "file_extension": ".py",
   "mimetype": "text/x-python",
   "name": "python",
   "nbconvert_exporter": "python",
   "pygments_lexer": "ipython3",
   "version": "3.9.13"
  }
 },
 "nbformat": 4,
 "nbformat_minor": 5
}
